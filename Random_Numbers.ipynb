{
 "cells": [
  {
   "cell_type": "code",
   "execution_count": 1,
   "id": "0e2e3326",
   "metadata": {},
   "outputs": [],
   "source": [
    "# Import the random module\n",
    "import random"
   ]
  },
  {
   "cell_type": "code",
   "execution_count": 8,
   "id": "34afa5da",
   "metadata": {},
   "outputs": [
    {
     "data": {
      "text/plain": [
       "8"
      ]
     },
     "execution_count": 8,
     "metadata": {},
     "output_type": "execute_result"
    }
   ],
   "source": [
    "# Produces a random integer within a given range\n",
    "random.randint(-90,90)\n"
   ]
  },
  {
   "cell_type": "code",
   "execution_count": 10,
   "id": "f775661a",
   "metadata": {},
   "outputs": [
    {
     "data": {
      "text/plain": [
       "0.5635890143574722"
      ]
     },
     "execution_count": 10,
     "metadata": {},
     "output_type": "execute_result"
    }
   ],
   "source": [
    "# Produces a random floating point decimal number between 0 and 1.0\n",
    "random.random()\n"
   ]
  },
  {
   "cell_type": "code",
   "execution_count": 23,
   "id": "4ccce691",
   "metadata": {},
   "outputs": [],
   "source": [
    "# Combine the two functions to create a random latitude value\n",
    "random_number = random.randint(-90,89) + random.random()\n"
   ]
  },
  {
   "cell_type": "code",
   "execution_count": 24,
   "id": "0af4cc48",
   "metadata": {},
   "outputs": [
    {
     "data": {
      "text/plain": [
       "31.52762389412985"
      ]
     },
     "execution_count": 24,
     "metadata": {},
     "output_type": "execute_result"
    }
   ],
   "source": [
    "random_number"
   ]
  },
  {
   "cell_type": "code",
   "execution_count": 25,
   "id": "a0a87b99",
   "metadata": {},
   "outputs": [],
   "source": [
    "x =1 \n",
    "latitudes = []\n",
    "while x < 11:\n",
    "    random_lat = random.randint(-90,89) + random.random()\n",
    "    latitudes.append(random_lat)\n",
    "    x+=1"
   ]
  },
  {
   "cell_type": "code",
   "execution_count": 26,
   "id": "05c308cb",
   "metadata": {},
   "outputs": [
    {
     "data": {
      "text/plain": [
       "[-74.50514567228365,\n",
       " 55.83439080590402,\n",
       " -37.882503586551124,\n",
       " -65.8818354379866,\n",
       " 5.801704117318712,\n",
       " 13.063974812060428,\n",
       " 54.35294773164353,\n",
       " -75.8267486124107,\n",
       " -2.6623847621839647,\n",
       " -73.25999663954426]"
      ]
     },
     "execution_count": 26,
     "metadata": {},
     "output_type": "execute_result"
    }
   ],
   "source": [
    "latitudes"
   ]
  },
  {
   "cell_type": "code",
   "execution_count": 40,
   "id": "d326d17f",
   "metadata": {},
   "outputs": [
    {
     "data": {
      "text/plain": [
       "-23"
      ]
     },
     "execution_count": 40,
     "metadata": {},
     "output_type": "execute_result"
    }
   ],
   "source": [
    "# Runs a random number within a range and according to a pattern/step\n",
    "random.randrange(-90,90, step=1)"
   ]
  },
  {
   "cell_type": "code",
   "execution_count": 51,
   "id": "8c054adf",
   "metadata": {
    "scrolled": false
   },
   "outputs": [
    {
     "data": {
      "text/plain": [
       "36"
      ]
     },
     "execution_count": 51,
     "metadata": {},
     "output_type": "execute_result"
    }
   ],
   "source": [
    "random.randrange(-90,90, step=3)"
   ]
  },
  {
   "cell_type": "code",
   "execution_count": 55,
   "id": "a95ee6ff",
   "metadata": {},
   "outputs": [
    {
     "data": {
      "text/plain": [
       "5.601072656027043"
      ]
     },
     "execution_count": 55,
     "metadata": {},
     "output_type": "execute_result"
    }
   ],
   "source": [
    "# Generates a floating point decimal number between two given numbers inside the parantheses.\n",
    "random.uniform(-90,90)"
   ]
  },
  {
   "cell_type": "code",
   "execution_count": 56,
   "id": "3781e6c4",
   "metadata": {},
   "outputs": [],
   "source": [
    "# Import the NumPy module.\n",
    "import numpy as np"
   ]
  },
  {
   "cell_type": "code",
   "execution_count": 57,
   "id": "4527a39b",
   "metadata": {},
   "outputs": [
    {
     "data": {
      "text/plain": [
       "64.02431851600932"
      ]
     },
     "execution_count": 57,
     "metadata": {},
     "output_type": "execute_result"
    }
   ],
   "source": [
    "np.random.uniform(-90.000, 90.000)"
   ]
  },
  {
   "cell_type": "code",
   "execution_count": 59,
   "id": "6de34885",
   "metadata": {},
   "outputs": [
    {
     "data": {
      "text/plain": [
       "65.36440260682875"
      ]
     },
     "execution_count": 59,
     "metadata": {},
     "output_type": "execute_result"
    }
   ],
   "source": [
    "np.random.uniform(low=-90, high=90)"
   ]
  },
  {
   "cell_type": "code",
   "execution_count": 61,
   "id": "38df5d82",
   "metadata": {},
   "outputs": [
    {
     "data": {
      "text/plain": [
       "array([ 88.3883262 , -50.17601719,  79.93649756, -86.92682075,\n",
       "        50.4188104 ,  80.57526579, -52.16019219,  62.00297722,\n",
       "       -18.94732892, -71.36984862,  -2.46568481,  25.7618117 ,\n",
       "        69.90283913, -30.80365874, -48.57629814, -13.70089151,\n",
       "       -75.46605332, -61.71168805,  16.18946558,  84.2578076 ,\n",
       "       -35.23642932, -30.34434364,  -8.4365247 , -38.62813814,\n",
       "       -16.80415438,  83.97869902,  -9.8038169 , -74.5650508 ,\n",
       "        69.12126259,  65.21661085,   4.981708  , -82.20173645,\n",
       "       -49.54879833,  62.29803853,   5.50341143, -36.41017424,\n",
       "        16.75727292, -55.44718507, -14.03669749,  50.13045596,\n",
       "       -86.45364704,  13.6040275 , -28.49252857,  -2.06158293,\n",
       "        -8.04021084,  47.05169875, -35.22709371, -23.35207038,\n",
       "       -35.72699915, -57.35664936])"
      ]
     },
     "execution_count": 61,
     "metadata": {},
     "output_type": "execute_result"
    }
   ],
   "source": [
    "np.random.uniform(-90.000, high=90.000, size =50)"
   ]
  },
  {
   "cell_type": "code",
   "execution_count": 62,
   "id": "748d28c1",
   "metadata": {},
   "outputs": [],
   "source": [
    "# Import timeit.\n",
    "import timeit"
   ]
  },
  {
   "cell_type": "code",
   "execution_count": 65,
   "id": "59119a54",
   "metadata": {},
   "outputs": [
    {
     "name": "stdout",
     "output_type": "stream",
     "text": [
      "16.4 µs ± 607 ns per loop (mean ± std. dev. of 7 runs, 100000 loops each)\n"
     ]
    }
   ],
   "source": [
    "%timeit np.random.uniform(-90.000, high=90.000, size =1500)\n",
    "\n"
   ]
  },
  {
   "cell_type": "code",
   "execution_count": 73,
   "id": "0e53236b",
   "metadata": {},
   "outputs": [
    {
     "name": "stdout",
     "output_type": "stream",
     "text": [
      "2.36 ms ± 64.8 µs per loop (mean ± std. dev. of 7 runs, 100 loops each)\n"
     ]
    }
   ],
   "source": [
    "def latitudes(size):\n",
    "    latitudes = []\n",
    "    x = 0\n",
    "    while x < (size):\n",
    "        random_lat = random.randint(-90, 90) + random.random()\n",
    "        latitudes.append(random_lat)\n",
    "        x += 1\n",
    "    return latitudes\n",
    "# Call the function with 1500.\n",
    "%timeit latitudes(1500)"
   ]
  },
  {
   "cell_type": "code",
   "execution_count": null,
   "id": "a1552b0f",
   "metadata": {},
   "outputs": [],
   "source": []
  }
 ],
 "metadata": {
  "kernelspec": {
   "display_name": "PythonData",
   "language": "python",
   "name": "pythondata"
  },
  "language_info": {
   "codemirror_mode": {
    "name": "ipython",
    "version": 3
   },
   "file_extension": ".py",
   "mimetype": "text/x-python",
   "name": "python",
   "nbconvert_exporter": "python",
   "pygments_lexer": "ipython3",
   "version": "3.7.10"
  }
 },
 "nbformat": 4,
 "nbformat_minor": 5
}
